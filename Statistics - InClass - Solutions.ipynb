{
 "cells": [
  {
   "cell_type": "markdown",
   "metadata": {
    "id": "aMAvp9iY5iX0"
   },
   "source": [
    "<table align=\"center\" width=100%>\n",
    "    <tr>\n",
    "        <td width=\"15%\">\n",
    "            <img src=\"inclass.png\">\n",
    "        </td>\n",
    "        <td>\n",
    "            <div align=\"center\">\n",
    "                <font color=\"#21618C\" size=8px>\n",
    "                    <b> In Class\n",
    "                    </b>\n",
    "                </font>\n",
    "            </div>\n",
    "        </td>\n",
    "    </tr>\n",
    "</table>"
   ]
  },
  {
   "cell_type": "markdown",
   "metadata": {
    "id": "4BIrM21b5iX8"
   },
   "source": [
    "**Import the required libraries**"
   ]
  },
  {
   "cell_type": "code",
   "execution_count": null,
   "metadata": {
    "ExecuteTime": {
     "end_time": "2023-01-21T16:59:14.304200Z",
     "start_time": "2023-01-21T16:59:10.692107Z"
    },
    "id": "FKpeZ_cl5iX9"
   },
   "outputs": [],
   "source": [
    "from scipy import stats\n",
    "import pandas as pd\n",
    "import seaborn as sns\n",
    "import matplotlib.pyplot as plt\n",
    "import numpy as np\n",
    "import math"
   ]
  },
  {
   "cell_type": "markdown",
   "metadata": {
    "id": "XDnDxphL5iX_"
   },
   "source": [
    "### Let's begin with some hands-on practice exercises"
   ]
  },
  {
   "cell_type": "markdown",
   "metadata": {
    "id": "lblcyoVI5iYA"
   },
   "source": [
    "**Huge Fruit Basket (HFB) is a grocery shop that sells fruits. It is observed that 20% of their customers complain about the fruits purchased by them for many reasons (bad quality, foul smell and less quantity). On Friday, 30 customers purchased fruits from HFB.**"
   ]
  },
  {
   "cell_type": "markdown",
   "metadata": {
    "collapsed": true,
    "id": "eR-vvSVA5iYB"
   },
   "source": [
    "<table align=\"left\">\n",
    "    <tr>\n",
    "        <td width=\"6%\">\n",
    "            <img src=\"scala_q.png\">\n",
    "        </td>\n",
    "        <td>\n",
    "            <div align=\"left\", style=\"font-size:120%\">\n",
    "                <font color=\"#21618C\">\n",
    "                    <b>1. Calculate the probability that exactly 10 customers will complain about the purchased products.\n",
    "</b>\n",
    "                </font>\n",
    "            </div>\n",
    "        </td>\n",
    "    </tr>\n",
    "</table>"
   ]
  },
  {
   "cell_type": "code",
   "execution_count": null,
   "metadata": {
    "ExecuteTime": {
     "end_time": "2023-01-21T16:59:14.319204Z",
     "start_time": "2023-01-21T16:59:14.306232Z"
    },
    "id": "N6s-5TCE5iYC",
    "outputId": "efe50e4d-1fde-426d-a9a7-6b9e1c44309c"
   },
   "outputs": [],
   "source": [
    "# calculate the probability\n",
    "prob = stats.binom.pmf(10, 30, 0.2) * 100\n",
    "# rounding the value to 2 digits\n",
    "prob = round(prob, 2)\n",
    "print(\"The probability that exactly 3 customers will complain about the purchased products {} %\".format(prob))"
   ]
  },
  {
   "cell_type": "markdown",
   "metadata": {
    "collapsed": true,
    "id": "58ixLNWN5iYG"
   },
   "source": [
    "<table align=\"left\">\n",
    "    <tr>\n",
    "        <td width=\"6%\">\n",
    "            <img src=\"scala_q.png\">\n",
    "        </td>\n",
    "        <td>\n",
    "            <div align=\"left\", style=\"font-size:120%\">\n",
    "                <font color=\"#21618C\">\n",
    "                    <b> 2. Create a list of all possible number of successes (0 to 15) and corresponding Probability Mass Funcrion (PMF) values and draw a bar plot.\n",
    "In other words; Calculate the probability that exactly n customers will complain about the purchased products; where n is 0 to 15.</b>\n",
    "                </font>\n",
    "            </div>\n",
    "        </td>\n",
    "    </tr>\n",
    "</table>"
   ]
  },
  {
   "cell_type": "code",
   "execution_count": null,
   "metadata": {
    "ExecuteTime": {
     "end_time": "2023-01-21T16:59:14.628663Z",
     "start_time": "2023-01-21T16:59:14.322183Z"
    },
    "id": "VRWL7HFh5iYI",
    "outputId": "b61e972f-b674-4b8a-f27d-0c9b0be2ade3"
   },
   "outputs": [],
   "source": [
    "# range(0,15) returns all values from 0 to 15 (excluding 16)\n",
    "pmf_df = pd.DataFrame({'success': range(0,16), 'pmf': list(stats.binom.pmf(range(0,16), 30, 0.2))})\n",
    "\n",
    "# Creating a bar plot with number of success as x and pmf as y\n",
    "sns.barplot(x = pmf_df.success, y = pmf_df.pmf)\n",
    "# Set the label for the y-axis\n",
    "plt.ylabel('pmf')\n",
    "# Set the label for the x-axis\n",
    "plt.xlabel('Number of customers who will complain')"
   ]
  },
  {
   "cell_type": "markdown",
   "metadata": {
    "collapsed": true,
    "id": "NmukSkDk5iYJ"
   },
   "source": [
    "<table align=\"left\">\n",
    "    <tr>\n",
    "        <td width=\"6%\">\n",
    "            <img src=\"scala_q.png\">\n",
    "        </td>\n",
    "        <td>\n",
    "            <div align=\"left\", style=\"font-size:120%\">\n",
    "                <font color=\"#21618C\">\n",
    "                    <b>3. Calculate the probability that maximum of 10 customers will complain about the fruits purchased by them.\n",
    "</b>\n",
    "                </font>\n",
    "            </div>\n",
    "        </td>\n",
    "    </tr>\n",
    "</table>"
   ]
  },
  {
   "cell_type": "code",
   "execution_count": null,
   "metadata": {
    "ExecuteTime": {
     "end_time": "2023-01-21T16:59:14.643657Z",
     "start_time": "2023-01-21T16:59:14.630692Z"
    },
    "id": "wcnZII7J5iYK",
    "outputId": "8e6d63e1-4fdc-4dde-c47c-7dde210b2d9e",
    "scrolled": true
   },
   "outputs": [],
   "source": [
    "# calculate the probability\n",
    "prob = stats.binom.cdf(10, 30, 0.2) * 100\n",
    "# rounding the value to 2 digits\n",
    "prob = round(prob, 2)\n",
    "print(\"The probability that maximum of 10 customers will complain about the fruits purchased by them is {} %\".format(prob))"
   ]
  },
  {
   "cell_type": "markdown",
   "metadata": {
    "collapsed": true,
    "id": "MLj2mlIC5iYL"
   },
   "source": [
    "<table align=\"left\">\n",
    "    <tr>\n",
    "        <td width=\"6%\">\n",
    "            <img src=\"scala_q.png\">\n",
    "        </td>\n",
    "        <td>\n",
    "            <div align=\"left\", style=\"font-size:120%\">\n",
    "                <font color=\"#21618C\">\n",
    "                    <b>4. Calculate the probability that more than 10 customers will complain about the fruits purchased by them.\n",
    "</b>\n",
    "                </font>\n",
    "            </div>\n",
    "        </td>\n",
    "    </tr>\n",
    "</table>"
   ]
  },
  {
   "cell_type": "code",
   "execution_count": null,
   "metadata": {
    "ExecuteTime": {
     "end_time": "2023-01-21T16:59:14.659587Z",
     "start_time": "2023-01-21T16:59:14.645657Z"
    },
    "id": "7q0XfZSy5iYN",
    "outputId": "ca995d22-d28e-41f0-bee0-d77e32faa9cd"
   },
   "outputs": [],
   "source": [
    "# calculate the probability\n",
    "prob = 100 - stats.binom.cdf(10, 30, 0.2) * 100\n",
    "# rounding the value to 2 digits\n",
    "prob = round(prob, 2)\n",
    "print(\"The probability that more than 10 customers will complain about the fruits purchased by them is {} %\".format(prob))"
   ]
  },
  {
   "cell_type": "markdown",
   "metadata": {
    "collapsed": true,
    "id": "8Rc9Np7C5iYR"
   },
   "source": [
    "<table align=\"left\">\n",
    "    <tr>\n",
    "        <td width=\"6%\">\n",
    "            <img src=\"scala_q.png\">\n",
    "        </td>\n",
    "        <td>\n",
    "            <div align=\"left\", style=\"font-size:120%\">\n",
    "                <font color=\"#21618C\">\n",
    "                    <b>5. The IQ of students follows normal distribution with mean 95 and variance 10. What is the probability that the any student selected at random will have IQ more than 102? \n",
    "</b>\n",
    "                </font>\n",
    "            </div>\n",
    "        </td>\n",
    "    </tr>\n",
    "</table>"
   ]
  },
  {
   "cell_type": "code",
   "execution_count": null,
   "metadata": {
    "ExecuteTime": {
     "end_time": "2023-01-21T16:59:14.674745Z",
     "start_time": "2023-01-21T16:59:14.661186Z"
    },
    "id": "DPGXMl295iYS",
    "outputId": "ab877ee9-7265-4ee9-916c-c22714978727"
   },
   "outputs": [],
   "source": [
    "# import the required library\n",
    "from scipy.stats import norm\n",
    "\n",
    "# mean of the distribution is \n",
    "mu = 95\n",
    "\n",
    "# variance of the distribution is \n",
    "var = 10\n",
    "\n",
    "# standard deviation of the distribution is \n",
    "sd = np.sqrt(var)\n",
    "\n",
    "# P(X>102)\n",
    "1 - norm.cdf(102, mu, sd)"
   ]
  },
  {
   "cell_type": "markdown",
   "metadata": {
    "id": "RjUOK63t5iYT"
   },
   "source": [
    "The probability that the any student selected at random will have IQ more than 102 is 0.013"
   ]
  },
  {
   "cell_type": "markdown",
   "metadata": {
    "collapsed": true,
    "id": "-B8EDFsZ5iYX"
   },
   "source": [
    "<table align=\"left\">\n",
    "    <tr>\n",
    "        <td width=\"6%\">\n",
    "            <img src=\"scala_q.png\">\n",
    "        </td>\n",
    "        <td>\n",
    "            <div align=\"left\", style=\"font-size:120%\">\n",
    "                <font color=\"#21618C\">\n",
    "                    <b>6. Consider three coins are tossed simultaneously.<br>\n",
    "                    1) How many outcomes have at least two heads?<br>\n",
    "                    2) What is the probability of the this event?<br>\n",
    "</b>\n",
    "                </font>\n",
    "            </div>\n",
    "        </td>\n",
    "    </tr>\n",
    "</table>"
   ]
  },
  {
   "cell_type": "markdown",
   "metadata": {
    "id": "Cm_B53wA5iYY"
   },
   "source": [
    "Let H: Head of the coin tossed\n",
    "and T: Tail of the coin tossed\n",
    "\n",
    "Three coins tossed simultaneously have the following outcomes:\n",
    "{HHH, HHT, HTH, THH, HTT, THT, TTH, TTT}"
   ]
  },
  {
   "cell_type": "code",
   "execution_count": null,
   "metadata": {
    "ExecuteTime": {
     "end_time": "2023-01-21T16:59:14.689702Z",
     "start_time": "2023-01-21T16:59:14.676737Z"
    },
    "id": "3DwJSbXj5iYY"
   },
   "outputs": [],
   "source": [
    "outcomes_atleast_two_heads = 'HHH', 'HHT', 'HTH', 'THH'\n",
    "\n",
    "# The number of outcomes that have at least two heads\n",
    "no_outcomes_atleast_two_heads = len(outcomes_atleast_two_heads)"
   ]
  },
  {
   "cell_type": "code",
   "execution_count": null,
   "metadata": {
    "ExecuteTime": {
     "end_time": "2023-01-21T16:59:14.705660Z",
     "start_time": "2023-01-21T16:59:14.693692Z"
    },
    "id": "Zz-Y71cM5iYY",
    "outputId": "04ba5378-5099-4b69-a0b1-f7d5052b22db"
   },
   "outputs": [],
   "source": [
    "# total number of outcomes\n",
    "total_outcomes = 8\n",
    "\n",
    "# Probability that the number of outcomes that have at least two heads\n",
    "no_outcomes_atleast_two_heads/total_outcomes"
   ]
  },
  {
   "cell_type": "markdown",
   "metadata": {},
   "source": [
    "<table align=\"left\">\n",
    "    <tr>\n",
    "        <td width=\"6%\">\n",
    "            <img src=\"scala_q.png\">\n",
    "        </td>\n",
    "        <td>\n",
    "            <div align=\"left\", style=\"font-size:120%\">\n",
    "                <font color=\"#21618C\">\n",
    "                    <b>7. The probability of selecting a red card\n",
    "</b>\n",
    "                </font>\n",
    "            </div>\n",
    "        </td>\n",
    "    </tr>\n",
    "</table>"
   ]
  },
  {
   "cell_type": "code",
   "execution_count": null,
   "metadata": {
    "ExecuteTime": {
     "end_time": "2023-01-21T16:59:14.720620Z",
     "start_time": "2023-01-21T16:59:14.708652Z"
    },
    "id": "7f4UAo-35iYZ",
    "outputId": "1bc1c621-cb53-4164-c232-d96680eee8c0"
   },
   "outputs": [],
   "source": [
    "# from a pack of 52 cards, the chance of selecting any card is equally likely\n",
    "probability_of_selecting_card = 1/52\n",
    "\n",
    "# a pack of cards has 26 red cards\n",
    "required_probability = 26 * probability_of_selecting_card\n",
    "\n",
    "print('The probability of selecting a red card', required_probability)"
   ]
  },
  {
   "cell_type": "code",
   "execution_count": null,
   "metadata": {},
   "outputs": [],
   "source": []
  },
  {
   "cell_type": "markdown",
   "metadata": {
    "collapsed": true,
    "id": "HNoiy_585iYl"
   },
   "source": [
    "<table align=\"left\">\n",
    "    <tr>\n",
    "        <td width=\"6%\">\n",
    "            <img src=\"scala_q.png\">\n",
    "        </td>\n",
    "        <td>\n",
    "            <div align=\"left\", style=\"font-size:120%\">\n",
    "                <font color=\"#21618C\">\n",
    "                    <b>8. What is the probability that a girl is chosen given that she likes Pizza?\n",
    "</b>\n",
    "                </font>\n",
    "            </div>\n",
    "        </td>\n",
    "    </tr>\n",
    "</table>"
   ]
  },
  {
   "cell_type": "markdown",
   "metadata": {
    "id": "5ECGZg2r5iYl"
   },
   "source": [
    "<img src=\"image.png\">"
   ]
  },
  {
   "cell_type": "code",
   "execution_count": null,
   "metadata": {
    "ExecuteTime": {
     "end_time": "2023-01-21T16:59:14.736436Z",
     "start_time": "2023-01-21T16:59:14.722441Z"
    },
    "id": "Bnd1OQu25iYm",
    "outputId": "9b350cbe-36bc-4ee1-a31b-24f97e8087cb"
   },
   "outputs": [],
   "source": [
    "# probability that the favourite food is pizza given girl: P(Pizza | Girl)\n",
    "PPgG = 60/85\n",
    "\n",
    "# probability of being a girl: P(Girl)\n",
    "PG = 85/155\n",
    "\n",
    "# probability that the favourite dish is Pizza: P(Pizza)\n",
    "PP = 90/155\n",
    "\n",
    "#  probability that a girl is chosen given that she likes Pizza: P(Girl | Pizza)\n",
    "\n",
    "PGgP = (PPgG * PG) / PP\n",
    "PGgP = round(PGgP, 2) * 100\n",
    "\n",
    "print('The probability that a girl is chosen given that she likes Pizza is {}%'.format(PGgP))"
   ]
  },
  {
   "cell_type": "markdown",
   "metadata": {
    "collapsed": true,
    "id": "T5IoxXho5iYm"
   },
   "source": [
    "<table align=\"left\">\n",
    "    <tr>\n",
    "        <td width=\"6%\">\n",
    "            <img src=\"scala_q.png\">\n",
    "        </td>\n",
    "        <td>\n",
    "            <div align=\"left\", style=\"font-size:120%\">\n",
    "                <font color=\"#21618C\">\n",
    "                    <b>9. What is the probability that a boy likes both the dishes?\n",
    "</b>\n",
    "                </font>\n",
    "            </div>\n",
    "        </td>\n",
    "    </tr>\n",
    "</table>"
   ]
  },
  {
   "cell_type": "code",
   "execution_count": null,
   "metadata": {
    "ExecuteTime": {
     "end_time": "2023-01-21T16:59:14.752182Z",
     "start_time": "2023-01-21T16:59:14.738399Z"
    },
    "id": "562j14Ol5iYm",
    "outputId": "6e4566c3-495a-4007-fdc2-499e66bdf822"
   },
   "outputs": [],
   "source": [
    "# probability that a boy likes both the dishes\n",
    "PB_likes_SP = 70/155\n",
    "\n",
    "PB_likes_SP = round(PB_likes_SP, 2) * 100\n",
    "\n",
    "print('The probability that a boy likes both the dishes is {}%'.format(PB_likes_SP))"
   ]
  },
  {
   "cell_type": "markdown",
   "metadata": {
    "collapsed": true,
    "id": "wv9lblbc5iYn"
   },
   "source": [
    "<table align=\"left\">\n",
    "    <tr>\n",
    "        <td width=\"6%\">\n",
    "            <img src=\"scala_q.png\">\n",
    "        </td>\n",
    "        <td>\n",
    "            <div align=\"left\", style=\"font-size:120%\">\n",
    "                <font color=\"#21618C\">\n",
    "                    <b>10. What is the probability that the favourite dish for both boys and girls is sizzlers?\n",
    "</b>\n",
    "                </font>\n",
    "            </div>\n",
    "        </td>\n",
    "    </tr>\n",
    "</table>"
   ]
  },
  {
   "cell_type": "code",
   "execution_count": null,
   "metadata": {
    "ExecuteTime": {
     "end_time": "2023-01-21T16:59:14.768166Z",
     "start_time": "2023-01-21T16:59:14.754176Z"
    },
    "id": "Qhy_A7615iYn",
    "outputId": "20e50b82-665b-4ac1-b8f1-3c4ed1fa7584"
   },
   "outputs": [],
   "source": [
    "# probability that the favourite dish for both boys and girls is sizzlers\n",
    "PS = 65/155\n",
    "\n",
    "PS = round(PS, 2) * 100\n",
    "\n",
    "print('The probability that a boy likes both the dishes is {}%'.format(PS))"
   ]
  },
  {
   "cell_type": "markdown",
   "metadata": {
    "collapsed": true,
    "id": "LYlzFwvM5iYn"
   },
   "source": [
    "<table align=\"left\">\n",
    "    <tr>\n",
    "        <td width=\"6%\">\n",
    "            <img src=\"scala_q.png\">\n",
    "        </td>\n",
    "        <td>\n",
    "            <div align=\"left\", style=\"font-size:120%\">\n",
    "                <font color=\"#21618C\">\n",
    "                    <b>11. What is the probability that the favourite food is Pizza given that he is a boy?\n",
    "</b>\n",
    "                </font>\n",
    "            </div>\n",
    "        </td>\n",
    "    </tr>\n",
    "</table>"
   ]
  },
  {
   "cell_type": "code",
   "execution_count": null,
   "metadata": {
    "ExecuteTime": {
     "end_time": "2023-01-21T16:59:14.784115Z",
     "start_time": "2023-01-21T16:59:14.770125Z"
    },
    "id": "Yyrl2jRG5iYn",
    "outputId": "5cc47b46-72b9-47a2-ecba-ec7b34093b89"
   },
   "outputs": [],
   "source": [
    "# probability of being a boy given that he likes pizza: P(Boy | Pizza)\n",
    "PBgP = 30/90\n",
    "\n",
    "# probability of being a boy: P(Boy)\n",
    "PB = 70/155\n",
    "\n",
    "# probability that the favourite dish is Pizza: P(Pizza)\n",
    "PP = 90/155\n",
    "\n",
    "#  probability that the favourite food is Pizza given that he is a boy: P(Pizza | Boy)\n",
    "PPgB = (PBgP * PP) / PB\n",
    "PPgB = round(PPgB, 2) * 100\n",
    "\n",
    "print('The probability that the favourite food is Pizza given that he is a boy is {}%'.format(PPgB))"
   ]
  },
  {
   "cell_type": "markdown",
   "metadata": {
    "collapsed": true,
    "id": "R4GXmNQU5iYo"
   },
   "source": [
    "<table align=\"left\">\n",
    "    <tr>\n",
    "        <td width=\"6%\">\n",
    "            <img src=\"scala_q.png\">\n",
    "        </td>\n",
    "        <td>\n",
    "            <div align=\"left\", style=\"font-size:120%\">\n",
    "                <font color=\"#21618C\">\n",
    "                    <b>12. An experiment to study obesity in male workers shows that the average BMI for 36 workers is 23.79. While rechecking the forms, it was noticed that the BMI of a worker was misread as 21.32 instead of 27.32. Find the correct average BMI.\n",
    "</b>\n",
    "                </font>\n",
    "            </div>\n",
    "        </td>\n",
    "    </tr>\n",
    "</table>"
   ]
  },
  {
   "cell_type": "code",
   "execution_count": null,
   "metadata": {
    "ExecuteTime": {
     "end_time": "2023-01-21T16:59:14.800045Z",
     "start_time": "2023-01-21T16:59:14.786083Z"
    },
    "id": "5-dS7GOe5iYo",
    "outputId": "69f19b96-c646-4786-9e6c-585266a6d57a"
   },
   "outputs": [],
   "source": [
    "# incorrect mean BMI\n",
    "incorrect_avg_bmi = 23.79\n",
    "\n",
    "# number of workers\n",
    "n = 36\n",
    "\n",
    "# incorrect sum of bmi\n",
    "incorrect_sum_bmi = incorrect_avg_bmi*n\n",
    "\n",
    "# as the observation 27.32 was misread as 21.32\n",
    "# correct_sum_bmi = incorrect_sum_bmi + correct_obs - incorrect_obs\n",
    "correct_obs = 27.32\n",
    "incorrect_obs = 21.32\n",
    "\n",
    "# correct sum of bmi\n",
    "correct_sum_bmi = incorrect_sum_bmi + correct_obs - incorrect_obs\n",
    "\n",
    "# correct average bmi\n",
    "correct_avg_bmi = correct_sum_bmi / n\n",
    "\n",
    "print('Correct average BMI:', correct_avg_bmi)"
   ]
  },
  {
   "cell_type": "markdown",
   "metadata": {
    "collapsed": true,
    "id": "K5cmol275iYq"
   },
   "source": [
    "<table align=\"left\">\n",
    "    <tr>\n",
    "        <td width=\"6%\">\n",
    "            <img src=\"scala_q.png\">\n",
    "        </td>\n",
    "        <td>\n",
    "            <div align=\"left\", style=\"font-size:120%\">\n",
    "                <font color=\"#21618C\">\n",
    "                    <b>13. Consider the height of 12 students in a class. Obtain the range of height for the middle 50% of the data.\n",
    "</b>\n",
    "                </font>\n",
    "            </div>\n",
    "        </td>\n",
    "    </tr>\n",
    "</table>"
   ]
  },
  {
   "cell_type": "markdown",
   "metadata": {
    "id": "mtCClUxm5iYq"
   },
   "source": [
    "Consider the height of 12 students in a class.\n",
    "\n",
    "height (cm) = [162, 158, 149, 167, 162, 154, 172, 160, 164, 159, 175, 163]"
   ]
  },
  {
   "cell_type": "code",
   "execution_count": null,
   "metadata": {
    "ExecuteTime": {
     "end_time": "2023-01-21T16:59:14.816000Z",
     "start_time": "2023-01-21T16:59:14.803038Z"
    },
    "id": "l1RG9Dr55iYr",
    "outputId": "97a3c434-e2ef-4a6a-e036-e7dd7f2d40cc",
    "scrolled": true
   },
   "outputs": [],
   "source": [
    "# given series of heights\n",
    "height = pd.Series([162, 158, 149, 167, 162, 154, 172, 160, 164, 159, 175, 163])\n",
    "\n",
    "# interquartile range returns the range of middle 50% of the data\n",
    "\n",
    "# calculate the 1st quartile\n",
    "Q1 = height.quantile(0.25)\n",
    "\n",
    "# calculate the 3rd quartile\n",
    "Q3 = height.quantile(0.75)\n",
    "\n",
    "# calculate IQR\n",
    "IQR = Q3 - Q1\n",
    "\n",
    "print('Range of middle 50% of the data:', IQR)"
   ]
  },
  {
   "cell_type": "markdown",
   "metadata": {
    "collapsed": true,
    "id": "-w2n5EMs5iYs"
   },
   "source": [
    "<table align=\"left\">\n",
    "    <tr>\n",
    "        <td width=\"6%\">\n",
    "            <img src=\"scala_q.png\">\n",
    "        </td>\n",
    "        <td>\n",
    "            <div align=\"left\", style=\"font-size:120%\">\n",
    "                <font color=\"#21618C\">\n",
    "                    <b>14. A study reports the monthly count of new subscribers of bloggers; Sheldon, Ross and Joey for a year. Find out who has more consistency in the number of new subscribers?\n",
    "</b>\n",
    "                </font>\n",
    "            </div>\n",
    "        </td>\n",
    "    </tr>\n",
    "</table>"
   ]
  },
  {
   "cell_type": "markdown",
   "metadata": {
    "id": "7JWJ7-gR5iYs"
   },
   "source": [
    "The count of new subscribers (in thousands) is given below:\n",
    "\n",
    "<table>\n",
    "    <tr>\n",
    "        <th> Month </th>\n",
    "        <th> Sheldon </th>\n",
    "        <th> Ross </th>\n",
    "        <th> Joey </th>\n",
    "    </tr>\n",
    "     <tr>\n",
    "        <td> Jan </td>\n",
    "        <td> 3 </td>\n",
    "        <td> 4 </td>\n",
    "        <td> 4.3 </td>\n",
    "    </tr>\n",
    "    <tr>\n",
    "        <td> Feb </td>\n",
    "        <td> 5.1 </td>\n",
    "        <td> 4.6</td>\n",
    "        <td> 4 </td>\n",
    "    </tr>\n",
    "    <tr>\n",
    "        <td> Mar </td>\n",
    "        <td> 2.9 </td>\n",
    "        <td> 3.1 </td>\n",
    "        <td> 4.5 </td>\n",
    "    </tr>\n",
    "    <tr>\n",
    "        <td> Apr </td>\n",
    "        <td> 3.7 </td>\n",
    "        <td> 4.2 </td>\n",
    "        <td> 5.1 </td>\n",
    "    </tr>\n",
    "    <tr>\n",
    "        <td> May </td>\n",
    "        <td> 4.2 </td>\n",
    "        <td> 5.4 </td>\n",
    "        <td> 6 </td>\n",
    "    </tr>\n",
    "    <tr>\n",
    "        <td> Jun </td>\n",
    "        <td> 4.2 </td>\n",
    "        <td> 3.4 </td>\n",
    "        <td> 5 </td>\n",
    "    </tr>\n",
    "    <tr>\n",
    "        <td> July </td>\n",
    "        <td> 4.3 </td>\n",
    "        <td> 5 </td>\n",
    "        <td> 4.8 </td>\n",
    "    </tr>\n",
    "    <tr>\n",
    "        <td> Aug </td>\n",
    "        <td> 5.2 </td>\n",
    "        <td> 6.2 </td>\n",
    "        <td> 5.4 </td>\n",
    "    </tr>\n",
    "    <tr>\n",
    "        <td> Sept </td>\n",
    "        <td> 3.7 </td>\n",
    "        <td> 4.2 </td>\n",
    "        <td> 5.1 </td>\n",
    "    </tr>\n",
    "    <tr>\n",
    "        <td> Oct </td>\n",
    "        <td> 4.4 </td>\n",
    "        <td> 3.5 </td>\n",
    "        <td> 6.4 </td>\n",
    "    </tr>\n",
    "    <tr>\n",
    "        <td> Nov </td>\n",
    "        <td> 5.2 </td>\n",
    "        <td> 4.1 </td>\n",
    "        <td> 4.2 </td>\n",
    "    </tr>\n",
    "    <tr>\n",
    "        <td> Dec </td>\n",
    "        <td> 3.4 </td>\n",
    "        <td> 5.5 </td>\n",
    "        <td> 3.4 </td>\n",
    "    </tr>\n",
    "</table>"
   ]
  },
  {
   "cell_type": "markdown",
   "metadata": {
    "id": "9EQakjdA5iYs"
   },
   "source": [
    "To find out the consistent blogger; let us calculate the coefficient of variation (c.v.) for each one of them."
   ]
  },
  {
   "cell_type": "code",
   "execution_count": null,
   "metadata": {
    "ExecuteTime": {
     "end_time": "2023-01-21T16:59:14.831958Z",
     "start_time": "2023-01-21T16:59:14.818001Z"
    },
    "id": "NYe5dchM5iYt",
    "outputId": "72fc2317-6eb2-4812-9f5d-55ce93966a5c"
   },
   "outputs": [],
   "source": [
    "# given series of data\n",
    "sheldon_sub = pd.Series([3, 5.1, 2.9, 3.7, 4.2, 4.2, 4.3, 5.2, 3.7, 4.4, 5.2, 3.4])\n",
    "ross_sub = pd.Series([4, 4.6, 3.1, 4.2, 5.4, 3.4, 5, 6.2, 4.2, 3.5, 4.1, 5.5])\n",
    "joey_sub = pd.Series([4.3, 4, 4.5, 5.1, 6, 5, 4.8, 5.4, 5.1, 6.4, 4.2, 3.4])\n",
    "\n",
    "# average new subscribers for sheldon\n",
    "sheldon_avg = sheldon_sub.mean()\n",
    "\n",
    "# standard deviation for sheldon\n",
    "sheldon_sd = sheldon_sub.std()\n",
    "\n",
    "# calculate c.v. of sheldon\n",
    "sheldon_cv = (sheldon_sd/sheldon_avg)*100\n",
    "\n",
    "# average new subscribers for ross\n",
    "ross_avg = ross_sub.mean()\n",
    "\n",
    "# standard deviation for ross\n",
    "ross_sd = ross_sub.std()\n",
    "\n",
    "# calculate c.v. of ross\n",
    "ross_cv = (ross_sd/ross_avg)*100\n",
    "\n",
    "# average new subscribers for joey\n",
    "joey_avg = joey_sub.mean()\n",
    "\n",
    "# standard deviation for joey\n",
    "joey_sd = joey_sub.std()\n",
    "\n",
    "# calculate c.v. of joey\n",
    "joey_cv = (joey_sd/joey_avg)*100\n",
    "\n",
    "# print the cv for each blogger\n",
    "print('C.V. for Sheldon:', sheldon_cv)\n",
    "print('C.V. for Ross:', ross_cv)\n",
    "print('C.V. for Joey:', joey_cv)"
   ]
  },
  {
   "cell_type": "markdown",
   "metadata": {
    "id": "0F0NyU6V5iYt"
   },
   "source": [
    "The output shows that the variation for Joey is the least. Thus, Joey has the most consistency in the number of new subscribers."
   ]
  },
  {
   "cell_type": "markdown",
   "metadata": {
    "collapsed": true,
    "id": "skTI3DgS5iYy"
   },
   "source": [
    "<table align=\"left\">\n",
    "    <tr>\n",
    "        <td width=\"6%\">\n",
    "            <img src=\"scala_q.png\">\n",
    "        </td>\n",
    "        <td>\n",
    "            <div align=\"left\", style=\"font-size:120%\">\n",
    "                <font color=\"#21618C\">\n",
    "                    <b>15. Assume that in a MCQ test, there are 10 questions, and each question has four options out which only one is correct. Steve knew answers to only 2 questions and has randomly marked answers for other questions. To pass the test one must answer 4 questions correctly. What is the probability that steve will pass?\n",
    "</b>\n",
    "                </font>\n",
    "            </div>\n",
    "        </td>\n",
    "    </tr>\n",
    "</table>"
   ]
  },
  {
   "cell_type": "markdown",
   "metadata": {
    "id": "6JfYZgo45iYy"
   },
   "source": [
    "Out of the 10 questions, Steve has answered 2 questions correctly. So from other 8 questions he needs to get 2 answers correct in order to pass the test. \n",
    "\n",
    "Let <br>\n",
    "n: the number of questions <br>\n",
    "p: probability of selecting the correct answer<br>\n",
    "Here n = 10 - 2 = 8\n",
    "and p = 1/4"
   ]
  },
  {
   "cell_type": "code",
   "execution_count": null,
   "metadata": {
    "ExecuteTime": {
     "end_time": "2023-01-21T16:59:14.847196Z",
     "start_time": "2023-01-21T16:59:14.833953Z"
    },
    "id": "1jDjsLZu5iYz",
    "outputId": "12ffc405-aa36-492f-cb85-fdf894e60891"
   },
   "outputs": [],
   "source": [
    "# import the required library\n",
    "from scipy.stats import binom\n",
    "\n",
    "# number of questions\n",
    "n = 8 \n",
    "\n",
    "# probaility of selecting the correct answer\n",
    "p =1/4\n",
    "\n",
    "# probability that Steve will pass\n",
    "# Steve needs to answer 2 more questions correctly in order to pass\n",
    "# thus we need P(X≥2)\n",
    "# The required probability is P(X≥2) = 1-P(X≤2)\n",
    "1 - binom.cdf(2, n, p) "
   ]
  },
  {
   "cell_type": "markdown",
   "metadata": {
    "id": "pf_klb4Y5iYz"
   },
   "source": [
    "Thus, Steve has only 32.1% chance of passing the test."
   ]
  }
 ],
 "metadata": {
  "colab": {
   "name": "Statistics - InClass - Solutions.ipynb",
   "provenance": []
  },
  "kernelspec": {
   "display_name": "Python 3",
   "language": "python",
   "name": "python3"
  },
  "language_info": {
   "codemirror_mode": {
    "name": "ipython",
    "version": 3
   },
   "file_extension": ".py",
   "mimetype": "text/x-python",
   "name": "python",
   "nbconvert_exporter": "python",
   "pygments_lexer": "ipython3",
   "version": "3.7.4"
  },
  "toc": {
   "base_numbering": 1,
   "nav_menu": {},
   "number_sections": false,
   "sideBar": true,
   "skip_h1_title": false,
   "title_cell": "Table of Contents",
   "title_sidebar": "Contents",
   "toc_cell": false,
   "toc_position": {},
   "toc_section_display": true,
   "toc_window_display": false
  }
 },
 "nbformat": 4,
 "nbformat_minor": 1
}
